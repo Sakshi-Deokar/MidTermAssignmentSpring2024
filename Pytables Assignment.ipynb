{
 "cells": [
  {
   "cell_type": "markdown",
   "id": "4a0744de",
   "metadata": {},
   "source": [
    "Name: Your Name:Sakshi Deokar\n",
    "Library: Pytables\n",
    "URL: https://www.pytables.org/usersguide/tutorials.html\n",
    "Description: \n",
    "PyTables is a Python library that efficiently manages large datasets using the HDF5 format. It optimizes storage space, speeds up data access, and supports compression, making it ideal for handling complex data structures and large volumes of information in various fields, including science, engineering, finance, and analytics."
   ]
  },
  {
   "cell_type": "code",
   "execution_count": null,
   "id": "6d1677a4",
   "metadata": {},
   "outputs": [],
   "source": [
    "# Importing Necessary Libraries\n",
    "from tables import *\n",
    "import numpy as np\n",
    "\n",
    "# Defining the Particle Class\n",
    "class Particle(IsDescription):\n",
    "    name = StringCol(16)   # 16-character String\n",
    "    idnumber = Int64Col()  # Signed 64-bit integer\n",
    "    ADCcount = UInt16Col() # Unsigned short integer\n",
    "    TDCcount = UInt8Col()  # Unsigned byte\n",
    "    grid_i = Int32Col()    # 32-bit integer\n",
    "    grid_j = Int32Col()    # 32-bit integer\n",
    "    pressure = Float32Col()# Float (single-precision)\n",
    "    energy = Float64Col()  # Double (double-precision)\n",
    "\n",
    "# Creating a PyTables file from scratch\n",
    "h5file = open_file(\"tutorial1.h5\", mode=\"w\", title=\"Test file\")\n",
    "\n",
    "# Creating a new group\n",
    "group = h5file.create_group(\"/\", 'detector', 'Detector information')\n",
    "\n",
    "# Creating a new table\n",
    "table = h5file.create_table(group, 'readout', Particle, \"Readout example\")\n",
    "\n",
    "# Get a pointer to the Row instance of the table\n",
    "particle = table.row\n",
    "\n",
    "# Iterate over the range of data you want to insert\n",
    "for i in range(10):\n",
    "    # Set values for each field using Row instance\n",
    "    particle['name'] = f'Particle: {i}'\n",
    "    particle['idnumber'] = i * (2 ** 10)\n",
    "    particle['ADCcount'] = (i * 256) % (1 << 16)\n",
    "    particle['TDCcount'] = i % 256\n",
    "    particle['grid_i'] = i\n",
    "    particle['grid_j'] = 10 - i\n",
    "    particle['pressure'] = float(i * i)\n",
    "    particle['energy'] = float(particle['pressure'] ** 2)\n",
    "    \n",
    "    # Append the particle record to the table\n",
    "    particle.append()\n",
    "\n",
    "# Selecting data based on specific conditions\n",
    "pressure = [x['pressure'] for x in table.iterrows() if x['TDCcount'] > 3 and 20 <= x['pressure'] < 50]\n",
    "\n",
    "# Creating a group to store selected data\n",
    "gcolumns = h5file.create_group(h5file.root, \"columns\", \"Pressure and Name\")\n",
    "\n",
    "# Closing the HDF5 file\n",
    "h5file.close()\n"
   ]
  }
 ],
 "metadata": {
  "kernelspec": {
   "display_name": "Python 3 (ipykernel)",
   "language": "python",
   "name": "python3"
  },
  "language_info": {
   "codemirror_mode": {
    "name": "ipython",
    "version": 3
   },
   "file_extension": ".py",
   "mimetype": "text/x-python",
   "name": "python",
   "nbconvert_exporter": "python",
   "pygments_lexer": "ipython3",
   "version": "3.11.5"
  }
 },
 "nbformat": 4,
 "nbformat_minor": 5
}
